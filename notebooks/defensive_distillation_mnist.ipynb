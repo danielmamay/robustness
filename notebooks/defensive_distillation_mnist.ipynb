{
 "cells": [
  {
   "cell_type": "code",
   "execution_count": null,
   "metadata": {},
   "outputs": [],
   "source": [
    "\"\"\"\n",
    "Defensive Distillation from 'Distillation as a Defense to Adversarial Perturbations against Deep Neural Networks'\n",
    "[https://arxiv.org/abs/1511.04508]\n",
    "\"\"\""
   ]
  },
  {
   "cell_type": "code",
   "execution_count": null,
   "metadata": {},
   "outputs": [],
   "source": [
    "import matplotlib.pyplot as plt\n",
    "import numpy as np\n",
    "import torch\n",
    "import torch.nn as nn\n",
    "import torch.nn.functional as F\n",
    "import torch.optim as optim\n",
    "import torchvision\n",
    "from torchvision import transforms\n",
    "\n",
    "from robustness.attacks.fast_gradient import FastGradient\n",
    "from robustness.attacks.projected_gradient_descent import ProjectedGradientDescent\n",
    "\n",
    "%matplotlib inline\n",
    "%load_ext autoreload\n",
    "%autoreload 2"
   ]
  },
  {
   "cell_type": "code",
   "execution_count": null,
   "metadata": {},
   "outputs": [],
   "source": [
    "device = torch.device(\"mps\" if torch.backends.mps.is_available() else \"cpu\")\n",
    "\n",
    "cpu = torch.device(\"cpu\")\n",
    "\n",
    "TEMPERATURE = 100"
   ]
  },
  {
   "cell_type": "markdown",
   "metadata": {},
   "source": [
    "## Define CNN"
   ]
  },
  {
   "cell_type": "code",
   "execution_count": null,
   "metadata": {},
   "outputs": [],
   "source": [
    "class CNN(nn.Module):\n",
    "    def __init__(self):\n",
    "        super(CNN, self).__init__()\n",
    "        self.conv1 = nn.Conv2d(1, 32, kernel_size=3)\n",
    "        self.conv2 = nn.Conv2d(32, 32, kernel_size=3)\n",
    "        self.conv3 = nn.Conv2d(32, 64, kernel_size=3)\n",
    "        self.conv4 = nn.Conv2d(64, 64, kernel_size=3)\n",
    "        self.fc1 = nn.Linear(1024, 200)\n",
    "        self.fc2 = nn.Linear(200, 200)\n",
    "        self.fc3 = nn.Linear(200, 10)\n",
    "        self.dropout = nn.Dropout(0.5)\n",
    "\n",
    "    def forward(self, x):\n",
    "        x = F.relu(self.conv1(x))\n",
    "        x = F.relu(self.conv2(x))\n",
    "        x = F.max_pool2d(x, 2)\n",
    "        x = F.relu(self.conv3(x))\n",
    "        x = F.relu(self.conv4(x))\n",
    "        x = F.max_pool2d(x, 2)\n",
    "        x = x.view(-1, 1024)\n",
    "        x = F.relu(self.fc1(x))\n",
    "        x = self.dropout(x)\n",
    "        x = F.relu(self.fc2(x))\n",
    "        x = self.dropout(x)\n",
    "        x = self.fc3(x)\n",
    "        return x"
   ]
  },
  {
   "cell_type": "markdown",
   "metadata": {},
   "source": [
    "# Prepare data"
   ]
  },
  {
   "cell_type": "code",
   "execution_count": null,
   "metadata": {},
   "outputs": [],
   "source": [
    "def prepare_mnist(batch_size):\n",
    "    transform = transforms.Compose([transforms.ToTensor()])\n",
    "\n",
    "    train_set = torchvision.datasets.MNIST(root='../data', train=True, download=True, transform=transform)\n",
    "    train_loader = torch.utils.data.DataLoader(train_set, batch_size=batch_size, shuffle=True, num_workers=2)\n",
    "\n",
    "    test_set = torchvision.datasets.MNIST(root='../data', train=False, download=True, transform=transform)\n",
    "    test_loader = torch.utils.data.DataLoader(test_set, batch_size=batch_size, shuffle=False, num_workers=2)\n",
    "\n",
    "    return train_loader, test_loader"
   ]
  },
  {
   "cell_type": "markdown",
   "metadata": {},
   "source": [
    "# Define trainer"
   ]
  },
  {
   "cell_type": "code",
   "execution_count": null,
   "metadata": {},
   "outputs": [],
   "source": [
    "def train(model, train_loader, optimizer, device, epochs, temperature):\n",
    "    # Set model to training mode\n",
    "    model.train()\n",
    "\n",
    "    for epoch in range(epochs):\n",
    "\n",
    "        running_loss = 0.\n",
    "\n",
    "        # Loop over each batch from the loader\n",
    "        for batch in train_loader:\n",
    "            # Copy data to device if needed\n",
    "            batch = tuple(t.to(device) for t in batch)\n",
    "\n",
    "            # Unpack the batch\n",
    "            inputs, labels = batch\n",
    "\n",
    "            # Zero gradient buffers\n",
    "            optimizer.zero_grad()\n",
    "\n",
    "            # Forward pass\n",
    "            logits = model(inputs)\n",
    "            loss = F.cross_entropy(logits / temperature, labels)\n",
    "\n",
    "            # Backward pass\n",
    "            loss.backward()\n",
    "\n",
    "            # Update weights\n",
    "            optimizer.step()\n",
    "\n",
    "            # Update metrics\n",
    "            running_loss += loss.item() * len(inputs)\n",
    "        \n",
    "        metrics = {'loss': running_loss / len(train_loader.dataset)}\n",
    "\n",
    "        print(metrics)\n",
    "\n",
    "    return metrics\n",
    "\n",
    "def evaluate(model, data_loader, device, temperature, attack=None):\n",
    "    # Set model to evaluation mode\n",
    "    model.eval()\n",
    "\n",
    "    top_1_match = 0\n",
    "    running_loss = 0.\n",
    "\n",
    "    batch_inputs = []\n",
    "    batch_logits = []\n",
    "    \n",
    "    # Loop over each batch from the loader\n",
    "    for batch in data_loader:\n",
    "        \n",
    "        # Copy data to device if needed\n",
    "        batch = tuple(t.to(device) for t in batch)\n",
    "\n",
    "        # Unpack the batch\n",
    "        inputs, labels = batch\n",
    "\n",
    "        if attack:\n",
    "            inputs, _ = attack.generate(inputs, labels)\n",
    "        \n",
    "        # Forward pass\n",
    "        with torch.no_grad():\n",
    "            logits = model(inputs)\n",
    "            loss = F.cross_entropy(logits / temperature, labels)\n",
    "\n",
    "            # Update metrics\n",
    "            running_loss += loss.item() * len(inputs)\n",
    "            top_1_match += (logits.argmax(dim=1) == labels).sum().item()\n",
    "\n",
    "            batch_inputs.append(inputs)\n",
    "            batch_logits.append(logits / temperature)\n",
    "\n",
    "    metrics = {'loss': running_loss / len(data_loader.dataset),\n",
    "               'match': top_1_match / len(data_loader.dataset)}\n",
    "\n",
    "    inputs = torch.cat(batch_inputs)\n",
    "    soft_labels = torch.cat(batch_logits).softmax(dim=1) # [N, C]\n",
    "\n",
    "    return metrics, (inputs, soft_labels)"
   ]
  },
  {
   "cell_type": "markdown",
   "metadata": {},
   "source": [
    "# Train Initial Network"
   ]
  },
  {
   "cell_type": "code",
   "execution_count": null,
   "metadata": {},
   "outputs": [],
   "source": [
    "train_loader, test_loader = prepare_mnist(batch_size=128)\n",
    "classes = train_loader.dataset.classes\n",
    "\n",
    "initial_network = CNN().to(device)\n",
    "\n",
    "optimizer = optim.SGD(initial_network.parameters(), lr=0.1, momentum=0.5)"
   ]
  },
  {
   "cell_type": "code",
   "execution_count": null,
   "metadata": {},
   "outputs": [],
   "source": [
    "train(initial_network, train_loader, optimizer, device, epochs=50, temperature=TEMPERATURE)\n",
    "\n",
    "metrics, _ = evaluate(initial_network, test_loader, device, temperature=1)\n",
    "\n",
    "print(metrics)\n",
    "\n",
    "torch.save(initial_network, f\"../models/defensive_distillation_mnist_initial_network_{TEMPERATURE}.pt\")"
   ]
  },
  {
   "cell_type": "markdown",
   "metadata": {},
   "source": [
    "# Train Distilled Network"
   ]
  },
  {
   "cell_type": "code",
   "execution_count": null,
   "metadata": {},
   "outputs": [],
   "source": [
    "initial_network = torch.load(f\"../models/defensive_distillation_mnist_initial_network_{TEMPERATURE}.pt\", map_location=\"cpu\").to(device)\n",
    "\n",
    "distilled_network = CNN().to(device)\n",
    "\n",
    "optimizer = optim.SGD(distilled_network.parameters(), lr=0.1, momentum=0.5)"
   ]
  },
  {
   "cell_type": "code",
   "execution_count": null,
   "metadata": {},
   "outputs": [],
   "source": [
    "_, (inputs, soft_labels) = evaluate(initial_network, train_loader, device, temperature=TEMPERATURE)\n",
    "\n",
    "inputs, soft_labels = inputs.to(cpu), soft_labels.to(cpu)\n",
    "\n",
    "d_train_set = torch.utils.data.TensorDataset(inputs, soft_labels)\n",
    "d_train_loader = torch.utils.data.DataLoader(d_train_set, batch_size=128, shuffle=True, num_workers=2)"
   ]
  },
  {
   "cell_type": "code",
   "execution_count": null,
   "metadata": {},
   "outputs": [],
   "source": [
    "train(distilled_network, d_train_loader, optimizer, device, epochs=50, temperature=TEMPERATURE)\n",
    "\n",
    "metrics, _  = evaluate(distilled_network, train_loader, device, temperature=TEMPERATURE)\n",
    "\n",
    "print(metrics)\n",
    "\n",
    "torch.save(distilled_network, f\"../models/defensive_distillation_mnist_distilled_network_{TEMPERATURE}.pt\")"
   ]
  },
  {
   "cell_type": "markdown",
   "metadata": {},
   "source": [
    "# Adversarial attacks"
   ]
  },
  {
   "cell_type": "code",
   "execution_count": null,
   "metadata": {},
   "outputs": [],
   "source": [
    "distilled_network = torch.load(f\"../models/defensive_distillation_mnist_distilled_network_{TEMPERATURE}.pt\", map_location=\"cpu\").to(device)"
   ]
  },
  {
   "cell_type": "markdown",
   "metadata": {},
   "source": [
    "## FGSM"
   ]
  },
  {
   "cell_type": "code",
   "execution_count": null,
   "metadata": {},
   "outputs": [],
   "source": [
    "epsilons = [0, 0.1, 0.2, 0.3, 0.4, 0.5]"
   ]
  },
  {
   "cell_type": "code",
   "execution_count": null,
   "metadata": {},
   "outputs": [],
   "source": [
    "# Metrics\n",
    "accuracy = []\n",
    "\n",
    "for epsilon in epsilons:\n",
    "    metrics, _ = evaluate(distilled_network, test_loader, device, temperature=1, attack=FastGradient(distilled_network, epsilon=epsilon))\n",
    "\n",
    "    print(metrics)\n",
    "    accuracy.append(metrics['match'])\n",
    "\n",
    "plt.figure(figsize=(3, 3))\n",
    "plt.plot(epsilons, accuracy, \"*-\", label='Accuracy')\n",
    "plt.yticks(np.arange(0, 1, step=0.1))\n",
    "plt.xticks(np.arange(0, 0.5, step=0.1))\n",
    "plt.xlabel(\"Epsilon\")\n",
    "plt.ylabel(\"Metric\")\n",
    "plt.legend()\n",
    "plt.savefig(f\"../figures/defensive_distillation_mnist_distilled_network_{TEMPERATURE}_fgsm.png\", dpi=300, bbox_inches='tight')\n",
    "plt.show()"
   ]
  },
  {
   "cell_type": "markdown",
   "metadata": {},
   "source": [
    "### Visualisation"
   ]
  },
  {
   "cell_type": "code",
   "execution_count": null,
   "metadata": {},
   "outputs": [],
   "source": [
    "dataiter = iter(train_loader)\n",
    "inputs, labels = dataiter.next()\n",
    "\n",
    "num_images = 5\n",
    "inputs, labels = inputs[:num_images], labels[:num_images]\n",
    "\n",
    "model = distilled_network.to(torch.device(\"cpu\"))\n",
    "\n",
    "subplot_count = 0\n",
    "\n",
    "plt.figure(figsize=(5, 6))\n",
    "\n",
    "for i, epsilon in enumerate(epsilons):\n",
    "\n",
    "    adversarial_inputs, predicted_labels = FastGradient(model, epsilon=epsilon).generate(inputs, labels)\n",
    "\n",
    "    for j, (image, predicted_label) in enumerate(zip(adversarial_inputs, predicted_labels)):\n",
    "\n",
    "        subplot_count += 1\n",
    "\n",
    "        plt.subplot(len(epsilons), num_images, subplot_count)\n",
    "\n",
    "        plt.xticks([], [])\n",
    "        plt.yticks([], [])\n",
    "\n",
    "        if j == 0:\n",
    "            plt.ylabel(f\"Epsilon: {epsilon}\")\n",
    "\n",
    "        plt.imshow(image.detach().cpu().numpy().transpose(1, 2, 0), cmap='gray')\n",
    "        plt.title(f\"{labels[j]} → {predicted_label}\")\n",
    "\n",
    "plt.tight_layout()\n",
    "plt.show()"
   ]
  },
  {
   "cell_type": "markdown",
   "metadata": {},
   "source": [
    "## PGD"
   ]
  },
  {
   "cell_type": "code",
   "execution_count": null,
   "metadata": {},
   "outputs": [],
   "source": [
    "epsilons = [0, 0.1, 0.2, 0.3, 0.4, 0.5]"
   ]
  },
  {
   "cell_type": "code",
   "execution_count": null,
   "metadata": {},
   "outputs": [],
   "source": [
    "# Metrics\n",
    "accuracy = []\n",
    "\n",
    "for epsilon in epsilons:\n",
    "    metrics, _ = evaluate(distilled_network, test_loader, device, temperature=TEMPERATURE, attack=ProjectedGradientDescent(distilled_network, epsilon=epsilon, alpha=2, steps=7))\n",
    "\n",
    "    accuracy.append(metrics['match'])\n",
    "\n",
    "plt.figure(figsize=(3, 3))\n",
    "plt.plot(epsilons, accuracy, \"*-\", label='Accuracy')\n",
    "plt.yticks(np.arange(0, 1, step=0.1))\n",
    "plt.xticks(np.arange(0, 0.5, step=0.1))\n",
    "plt.xlabel(\"Epsilon\")\n",
    "plt.ylabel(\"Metric\")\n",
    "plt.legend()\n",
    "plt.savefig(f\"../figures/defensive_distillation_mnist_distilled_network_{TEMPERATURE}_pgd.png\", dpi=300, bbox_inches='tight')\n",
    "plt.show()"
   ]
  },
  {
   "cell_type": "code",
   "execution_count": null,
   "metadata": {},
   "outputs": [],
   "source": [
    "dataiter = iter(train_loader)\n",
    "inputs, labels = dataiter.next()\n",
    "\n",
    "num_images = 5\n",
    "inputs, labels = inputs[:num_images], labels[:num_images]\n",
    "\n",
    "model = distilled_network.to(torch.device(\"cpu\"))\n",
    "\n",
    "subplot_count = 0\n",
    "\n",
    "plt.figure(figsize=(5, 6))\n",
    "\n",
    "for i, epsilon in enumerate(epsilons):\n",
    "\n",
    "    adversarial_inputs, predicted_labels = attack=ProjectedGradientDescent(model, epsilon=epsilon, alpha=2, steps=7).generate(inputs, labels)\n",
    "\n",
    "    for j, (image, predicted_label) in enumerate(zip(adversarial_inputs, predicted_labels)):\n",
    "\n",
    "        subplot_count += 1\n",
    "\n",
    "        plt.subplot(len(epsilons), num_images, subplot_count)\n",
    "\n",
    "        plt.xticks([], [])\n",
    "        plt.yticks([], [])\n",
    "\n",
    "        if j == 0:\n",
    "            plt.ylabel(f\"Epsilon: {epsilon}\")\n",
    "\n",
    "        plt.imshow(image.detach().cpu().numpy().transpose(1, 2, 0), cmap='gray')\n",
    "        plt.title(f\"{labels[j]} → {predicted_label}\")\n",
    "\n",
    "plt.tight_layout()\n",
    "plt.show()"
   ]
  }
 ],
 "metadata": {
  "kernelspec": {
   "display_name": "Python 3.9.13 ('robustness')",
   "language": "python",
   "name": "python3"
  },
  "language_info": {
   "codemirror_mode": {
    "name": "ipython",
    "version": 3
   },
   "file_extension": ".py",
   "mimetype": "text/x-python",
   "name": "python",
   "nbconvert_exporter": "python",
   "pygments_lexer": "ipython3",
   "version": "3.9.13"
  },
  "orig_nbformat": 4,
  "vscode": {
   "interpreter": {
    "hash": "5c86240bf0cc73d06c1704dd43be9ce5d1afaeaa71caf709b6aaa420f3af3e84"
   }
  }
 },
 "nbformat": 4,
 "nbformat_minor": 2
}
